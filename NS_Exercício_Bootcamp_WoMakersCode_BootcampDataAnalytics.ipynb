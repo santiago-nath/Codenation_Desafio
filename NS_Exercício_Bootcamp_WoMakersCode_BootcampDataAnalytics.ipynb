{
  "nbformat": 4,
  "nbformat_minor": 0,
  "metadata": {
    "colab": {
      "provenance": [],
      "include_colab_link": true
    },
    "kernelspec": {
      "name": "python3",
      "display_name": "Python 3"
    },
    "language_info": {
      "name": "python"
    }
  },
  "cells": [
    {
      "cell_type": "markdown",
      "metadata": {
        "id": "view-in-github",
        "colab_type": "text"
      },
      "source": [
        "<a href=\"https://colab.research.google.com/github/santiago-nath/Codenation_Desafio/blob/master/NS_Exerc%C3%ADcio_Bootcamp_WoMakersCode_BootcampDataAnalytics.ipynb\" target=\"_parent\"><img src=\"https://colab.research.google.com/assets/colab-badge.svg\" alt=\"Open In Colab\"/></a>"
      ]
    },
    {
      "cell_type": "markdown",
      "source": [
        "1 ) Para determinar se um candidato está qualificado para uma vaga de emprego, são aplicados dois critérios:\n",
        "\n",
        "a) O candidato deve ter uma presença igual ou superior a 60% em um treinamento obrigatório.\n",
        "\n",
        "b) O candidato deve ter uma média de desempenho igual ou superior a 7 em uma série de testes.\n",
        "\n",
        "Para auxiliar na avaliação dos candidatos, você deve criar uma função que recebe uma lista de dicionários contendo o nome do candidato, a média de desempenho e a quantidade de horas de ausência do treinamento. Com esses dados, a função deve calcular se o candidato está qualificado ou não. A presença do candidato é calculada considerando que o treinamento teve um total de 60 horas e utilizando a fórmula:\n",
        "\n",
        "(Total horas - número de faltas)/Total horas * 100;\n"
      ],
      "metadata": {
        "id": "3UpM724I5C19"
      }
    },
    {
      "cell_type": "code",
      "source": [
        "def avaliar_candidatos(lista_candidatos):\n",
        "    for candidato in lista_candidatos:\n",
        "        nome = candidato['nome']\n",
        "        media_desempenho = candidato['media_desempenho']\n",
        "        horas_ausencia = candidato['horas_ausencia']\n",
        "\n",
        "        # Calcular a presença\n",
        "        treinamento_obg = 60\n",
        "        presenca = ((treinamento_obg - horas_ausencia) / treinamento_obg) * 100\n",
        "\n",
        "        # Verificar aplicaçao de critérios\n",
        "        if presenca >= 60 and media_desempenho >= 7:\n",
        "            print(f'O candidato {nome} está QUALIFICADO.')\n",
        "        else:\n",
        "            print(f'O candidato {nome} NÃO está qualificado.')\n",
        "\n",
        "candidatos = [\n",
        "    {'nome': 'Candidato1', 'media_desempenho': 8, 'horas_ausencia': 10},\n",
        "    {'nome': 'Candidato2', 'media_desempenho': 6, 'horas_ausencia': 5},\n",
        "    {'nome': 'Candidato3', 'media_desempenho': 7, 'horas_ausencia': 20}\n",
        "]\n",
        "\n",
        "avaliar_candidatos(candidatos)\n"
      ],
      "metadata": {
        "id": "Xv1MnjPQvkSt",
        "colab": {
          "base_uri": "https://localhost:8080/"
        },
        "outputId": "67b911a9-2b77-4f4e-e64f-b08278b961a1"
      },
      "execution_count": 1,
      "outputs": [
        {
          "output_type": "stream",
          "name": "stdout",
          "text": [
            "O candidato Candidato1 está QUALIFICADO.\n",
            "O candidato Candidato2 NÃO está qualificado.\n",
            "O candidato Candidato3 está QUALIFICADO.\n"
          ]
        }
      ]
    },
    {
      "cell_type": "markdown",
      "source": [
        "2) Crie uma função que recebe uma palavra (string), separa todos os caracteres em uma lista, retorna esta lista e quantidade de letras."
      ],
      "metadata": {
        "id": "fKKdyWo55e8w"
      }
    },
    {
      "cell_type": "code",
      "source": [
        "def separar_caracteres(palavra):\n",
        "    lista_caracteres = list(palavra)\n",
        "    quantidade_letras = sum(1 for caracter in lista_caracteres if caracter.isalpha()) # method returns True if all the characters are alphabet letters (a-z)\n",
        "    return lista_caracteres, quantidade_letras\n",
        "\n",
        "palavra = \"Mais Mulheres Tech\"\n",
        "caracteres, qtd_letras = separar_caracteres(palavra)\n",
        "\n",
        "print(f\"Lista de caracteres: {caracteres}\")\n",
        "print(f\"Quantidade de letras: {qtd_letras}\")\n"
      ],
      "metadata": {
        "id": "Qq7QoqubvjbG",
        "colab": {
          "base_uri": "https://localhost:8080/"
        },
        "outputId": "6ecae76e-dd76-4788-efb6-5286267bea9b"
      },
      "execution_count": 3,
      "outputs": [
        {
          "output_type": "stream",
          "name": "stdout",
          "text": [
            "Lista de caracteres: ['M', 'a', 'i', 's', ' ', 'M', 'u', 'l', 'h', 'e', 'r', 'e', 's', ' ', 'T', 'e', 'c', 'h']\n",
            "Quantidade de letras: 16\n"
          ]
        }
      ]
    },
    {
      "cell_type": "markdown",
      "source": [
        "3) Crie um programa que leia quanto dinheiro uma pessoa tem na carteira, e calcule quanto poderia comprar de cada moeda estrangeira. Considere a tabela de conversão abaixo:\n",
        "\n",
        "Valor convertido em real:\n",
        "*   Dólar Americano: 4,91\n",
        "*   Peso Argentino: 0,02\n",
        "*   Dólar Australiano: 3,18\n",
        "*   Dólar Canadense: 3,64\n",
        "*   Franco Suiço: 0,42\n",
        "*   Euro:  5,36\n",
        "*   Libra esterlina: 6,21\n",
        "\n",
        "\n",
        "\n",
        "\n",
        "\n",
        "\n",
        "\n"
      ],
      "metadata": {
        "id": "EEXxWdjH5sju"
      }
    },
    {
      "cell_type": "code",
      "source": [
        "def calcular_conversao(valor_em_reais):\n",
        "    taxa_conversao = {\n",
        "        'Dólar Americano': 4.91,\n",
        "        'Peso Argentino': 0.02,\n",
        "        'Dólar Australiano': 3.18,\n",
        "        'Dólar Canadense': 3.64,\n",
        "        'Franco Suiço': 0.42,\n",
        "        'Euro': 5.36,\n",
        "        'Libra esterlina': 6.21\n",
        "    }\n",
        "\n",
        "    resultado_conversao = {}\n",
        "    for moeda, taxa in taxa_conversao.items():\n",
        "        valor_convertido = valor_em_reais / taxa\n",
        "        resultado_conversao[moeda] = valor_convertido\n",
        "\n",
        "    return resultado_conversao\n",
        "\n",
        "# Solicitar ao usuário o valor em reais\n",
        "valor_em_reais = float(input(\"Digite o valor em reais na sua carteira: \"))\n",
        "\n",
        "# Calcular e exibir o resultado da conversão\n",
        "resultado = calcular_conversao(valor_em_reais)\n",
        "\n",
        "print(\"\\nQuantidade que você poderia comprar em cada moeda estrangeira:\")\n",
        "for moeda, valor_convertido in resultado.items():\n",
        "    print(f\"{moeda}: {valor_convertido:.2f}\")\n"
      ],
      "metadata": {
        "id": "BFil1HpZvbFg",
        "colab": {
          "base_uri": "https://localhost:8080/"
        },
        "outputId": "37a68167-175a-41a9-f209-b2333670c74d"
      },
      "execution_count": 4,
      "outputs": [
        {
          "output_type": "stream",
          "name": "stdout",
          "text": [
            "Digite o valor em reais na sua carteira: 1500\n",
            "\n",
            "Quantidade que você poderia comprar em cada moeda estrangeira:\n",
            "Dólar Americano: 305.50\n",
            "Peso Argentino: 75000.00\n",
            "Dólar Australiano: 471.70\n",
            "Dólar Canadense: 412.09\n",
            "Franco Suiço: 3571.43\n",
            "Euro: 279.85\n",
            "Libra esterlina: 241.55\n"
          ]
        }
      ]
    },
    {
      "cell_type": "markdown",
      "source": [
        "\n",
        "4) O chefe decidiu premiar os melhores funcionários de sua empresa com um brinde. Para isso ela vai entregar um brinde para todos os funcionários que tiverem uma performance superior a média da equipe.\n",
        "\n",
        "Elabore uma função que recebe uma lista de nome em formato de dict (dicionário) com nome do funcionário e a média do funcionário (Valor de 0 a 10). Esta função deve calcular a média da equipe, identificar quais funcionários tem média igual ou superior a média da equipe e retornar uma lista com o nome dos funcionários que possuem média igual ou superior a média da equipe. A ordem dos nomes da lista de retorno deve ser em ordem decrescente."
      ],
      "metadata": {
        "id": "Tj2Ds76-6FXs"
      }
    },
    {
      "cell_type": "code",
      "source": [
        "def funcionarios_media(funcionarios):\n",
        "    # Calcular a média da equipe\n",
        "    total_funcionarios = len(funcionarios)\n",
        "    media_equipe = sum(funcionario['media'] for funcionario in funcionarios) / total_funcionarios\n",
        "\n",
        "    # Filtrar os funcionários acima da média\n",
        "    acima_da_media = [funcionario['nome'] for funcionario in funcionarios if funcionario['media'] >= media_equipe]\n",
        "\n",
        "    # Ordenar em ordem decrescente\n",
        "    acima_da_media.sort(reverse=True)\n",
        "\n",
        "    return acima_da_media\n",
        "\n",
        "# Dicionário com nome e média\n",
        "funcionarios = [\n",
        "    {'nome': 'Funcionario1', 'media': 8.5},\n",
        "    {'nome': 'Funcionario2', 'media': 7.2},\n",
        "    {'nome': 'Funcionario3', 'media': 6.8},\n",
        "    {'nome': 'Funcionario4', 'media': 9.0},\n",
        "]\n",
        "\n",
        "resultado = funcionarios_media(funcionarios)\n",
        "\n",
        "print(\"Funcionários com média igual ou superior à média da equipe:\")\n",
        "print(resultado)\n"
      ],
      "metadata": {
        "id": "poEG0mnOvgSO",
        "colab": {
          "base_uri": "https://localhost:8080/"
        },
        "outputId": "e5019e07-6490-47b3-f9fd-59f38cd1a2cb"
      },
      "execution_count": 5,
      "outputs": [
        {
          "output_type": "stream",
          "name": "stdout",
          "text": [
            "Funcionários com média igual ou superior à média da equipe:\n",
            "['Funcionario4', 'Funcionario1']\n"
          ]
        }
      ]
    },
    {
      "cell_type": "markdown",
      "source": [
        "5) Na variável países_ano, temos uma lista de listas, em que cada elemento é uma lista de dois elementos, em que o primeiro é o nome de um país e o segundo é o ano em que a nação foi fundada."
      ],
      "metadata": {
        "id": "pVSP5n1T_ZWQ"
      }
    },
    {
      "cell_type": "code",
      "source": [
        "lista_paises = [[\"Brasil\", \"1500\"],[\"Mexico\",\"1519\"], [\"Inglaterra\", \"927\"], [\"Espanha\",\"1978\"], [\"Escocia\", \"843\"]]"
      ],
      "metadata": {
        "id": "zRywrNff01he"
      },
      "execution_count": null,
      "outputs": []
    },
    {
      "cell_type": "markdown",
      "source": [
        "Você deseja criar uma nova lista de listas a partir do exemplo (lista_paises), em que cada elemento é uma lista de dois elementos, sendo o primeiro o nome do país (como é na lista original) e o segundo é o número de anos desde a fundação do país (considere que o ano atual é 2023)."
      ],
      "metadata": {
        "id": "OpU-UWXC01Ca"
      }
    },
    {
      "cell_type": "code",
      "source": [
        "from datetime import datetime\n",
        "\n",
        "# Lista de países\n",
        "lista_paises = [[\"Brasil\", \"1500\"],[\"Mexico\",\"1519\"], [\"Inglaterra\", \"927\"], [\"Espanha\",\"1978\"], [\"Escocia\", \"843\"]]\n",
        "\n",
        "# Ano atual\n",
        "ano_atual = 2023\n",
        "\n",
        "# Países - anos fundaçao\n",
        "anos_existencia = []\n",
        "\n",
        "# Iterando sobre a lista de países\n",
        "for pais, ano_fundacao in lista_paises:\n",
        "    ano_fundacao = int(ano_fundacao)\n",
        "    anos_desde_fundacao = ano_atual - ano_fundacao\n",
        "    anos_existencia.append([pais, anos_desde_fundacao])\n",
        "\n",
        "# Exibindo a nova lista\n",
        "for pais, anos_desde_fundacao in anos_existencia:\n",
        "    print(f\"{pais}: {anos_desde_fundacao} anos desde a fundação\")\n"
      ],
      "metadata": {
        "id": "xaEQxcMFvhVa",
        "colab": {
          "base_uri": "https://localhost:8080/"
        },
        "outputId": "77c1a46c-352e-486b-ba50-66283330e6c9"
      },
      "execution_count": 6,
      "outputs": [
        {
          "output_type": "stream",
          "name": "stdout",
          "text": [
            "Brasil: 523 anos desde a fundação\n",
            "Mexico: 504 anos desde a fundação\n",
            "Inglaterra: 1096 anos desde a fundação\n",
            "Espanha: 45 anos desde a fundação\n",
            "Escocia: 1180 anos desde a fundação\n"
          ]
        }
      ]
    },
    {
      "cell_type": "markdown",
      "source": [
        "6) Um jogador de um jogo de vídeo game deseja subir de nível em seu personagem ao atingir 50 inimigos derrotados. Enquanto esse número não é alcançado, uma mensagem indicando quantos inimigos ainda faltam é exibida na tela.\n"
      ],
      "metadata": {
        "id": "_qb748YiCzh-"
      }
    },
    {
      "cell_type": "code",
      "source": [
        "inimigos_derrotados = 0\n",
        "nivel = 0\n",
        "\n",
        "while (inimigos_derrotados < 50):\n",
        "\n",
        "    print(f\"Faltam {50 - inimigos_derrotados} inimigos para você mudar de nível!\")\n",
        "\n",
        "    # faça seu código aqui\n",
        "\n",
        "print(\"\\nVocê atingiu o próximo nível!\")\n",
        "nivel = 1"
      ],
      "metadata": {
        "id": "wooL40fJi_gj"
      },
      "execution_count": null,
      "outputs": []
    }
  ]
}